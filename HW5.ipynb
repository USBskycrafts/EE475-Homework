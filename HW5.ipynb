{
 "cells": [
  {
   "cell_type": "code",
   "execution_count": 1,
   "id": "00462dd5",
   "metadata": {},
   "outputs": [],
   "source": [
    "# import autograd-wrapped numpy\n",
    "import autograd.numpy as np\n",
    "import matplotlib.pyplot as plt\n",
    "%matplotlib inline\n",
    "from matplotlib import rcParams\n",
    "rcParams['figure.autolayout'] = True\n",
    "\n",
    "%load_ext autoreload\n",
    "%autoreload 2\n",
    "\n",
    "# datapath to data\n",
    "datapath = './superlearn_datasets/'"
   ]
  },
  {
   "cell_type": "markdown",
   "id": "ed79196d",
   "metadata": {},
   "source": [
    "-----\n",
    "some handy tools"
   ]
  },
  {
   "cell_type": "code",
   "execution_count": 2,
   "id": "0bb5d994",
   "metadata": {},
   "outputs": [],
   "source": [
    "from autograd import grad\n",
    "from autograd import hessian\n",
    "def newtons_method(g, max_its, w):\n",
    "    gradient = grad(g)\n",
    "    hess = hessian(g)\n",
    "    epsilon = 1e-7\n",
    "    \n",
    "    weight_his = [w]\n",
    "    cost_his = [g(w)]\n",
    "    for k in range(max_its):\n",
    "        grad_eval = gradient(w)\n",
    "        hess_eval = hess(w)\n",
    "        \n",
    "        hess_eval.shape = (int(np.size(hess_eval)**0.5),\n",
    "                           int(np.size(hess_eval)**0.5))\n",
    "        A = hess_eval + epsilon*np.eye(w.size)\n",
    "        b = grad_eval\n",
    "        w = np.linalg.solve(A, np.dot(A,w)-b)\n",
    "        weight_his.append(w)\n",
    "        cost_his.append(g(w))\n",
    "    return weight_his, cost_his\n",
    "\n",
    "def gradient_descent(g, max_its, w):\n",
    "    gradient = grad(g)\n",
    "    weight_his = [w]\n",
    "    cost_his = [g(w)]\n",
    "    for k in range(max_its):\n",
    "        grad_eval = gradient(w)\n",
    "        w = w - grad_eval\n",
    "        weight_his.append(w)\n",
    "        cost_his.append(g(w))\n",
    "    return weight_his, cost_his"
   ]
  },
  {
   "cell_type": "markdown",
   "id": "5fac77e4",
   "metadata": {},
   "source": [
    "-----"
   ]
  },
  {
   "cell_type": "markdown",
   "id": "1e10eca5",
   "metadata": {},
   "source": [
    "# 7.2"
   ]
  },
  {
   "cell_type": "code",
   "execution_count": 3,
   "id": "8b32acb0",
   "metadata": {},
   "outputs": [
    {
     "name": "stdout",
     "output_type": "stream",
     "text": [
      "[[0. 0. 0. 0. 0. 0. 0. 0. 0. 0. 1. 1. 1. 1. 1. 1. 1. 1. 1. 1. 2. 2. 2. 2.\n",
      "  2. 2. 2. 2. 2. 2. 3. 3. 3. 3. 3. 3. 3. 3. 3. 3.]]\n",
      "[0 0 0 0 0 0 1 2 0 0 0 1 2 1 1 1 1 1 3 1 0 1 2 2 2 2 2 2 2 3 2 1 3 3 3 3 3\n",
      " 3 3 3]\n",
      "There are 10 mismatches in total\n"
     ]
    }
   ],
   "source": [
    "# load in dataset\n",
    "csvname = datapath + '4class_data.csv'\n",
    "data = np.loadtxt(csvname,delimiter = ',');\n",
    "x = data[:-1,:]\n",
    "y = data[-1:,:] \n",
    "\n",
    "l = 1e-3\n",
    "\n",
    "def model(x, w):\n",
    "    a = w[0] + np.dot(x.T,w[1:])\n",
    "    return a.T\n",
    "\n",
    "def fusion_rule(w):\n",
    "    return np.argmax(model(x, w), axis = 0)\n",
    "\n",
    "def softmax(w):\n",
    "    cost = np.sum(np.log(1+np.exp(-y*model(x, w))))\n",
    "    return cost/float(np.size(y))\n",
    "\n",
    "w = 0.1*np.random.randn(3,4)\n",
    "\n",
    "for j in range(4):\n",
    "    _y = y\n",
    "    y = np.apply_along_axis(lambda x : 1.0 if x == j else -1.0, 0, y)\n",
    "    weight_his, _ = newtons_method(softmax, 1000, w[:, j])\n",
    "    w[:, j] = weight_his[-1]\n",
    "    y = _y\n",
    "\n",
    "print(y, fusion_rule(w), sep = '\\n')\n",
    "print(f\"There are {np.sum(y.squeeze() != fusion_rule(w))} mismatches in total\")"
   ]
  },
  {
   "cell_type": "markdown",
   "id": "1723f2f5",
   "metadata": {},
   "source": [
    "# 7.3"
   ]
  },
  {
   "cell_type": "code",
   "execution_count": 4,
   "id": "ee9c791b",
   "metadata": {},
   "outputs": [
    {
     "name": "stdout",
     "output_type": "stream",
     "text": [
      "[[0. 0. 0. 0. 0. 0. 0. 0. 0. 0. 1. 1. 1. 1. 1. 1. 1. 1. 1. 1. 2. 2. 2. 2.\n",
      "  2. 2. 2. 2. 2. 2.]]\n",
      "[0 0 0 0 0 0 0 0 0 0 1 1 1 1 1 1 1 1 1 1 2 2 2 2 2 2 2 2 2 2]\n",
      "There are 0 mismatches in total\n"
     ]
    }
   ],
   "source": [
    "# load in dataset\n",
    "data = np.loadtxt(datapath + '3class_data.csv',delimiter = ',')\n",
    "\n",
    "# get input/output pairs\n",
    "x = data[:-1,:]\n",
    "y = data[-1:,:]\n",
    "\n",
    "lam = 10 ** -5\n",
    "w = 0.1*np.random.randn(3,3)\n",
    "\n",
    "def model(x, w):\n",
    "    a = w[0] + np.dot(x.T,w[1:])\n",
    "    return a.T\n",
    "\n",
    "def multiclass_perceptron(w):\n",
    "    all_evals = model(x, w)\n",
    "    a = np.max(all_evals, axis = 0)\n",
    "    b = all_evals[y.astype(int).flatten(), np.arange(np.size(y))]\n",
    "    cost = np.sum(a - b)\n",
    "    \n",
    "    cost = cost + lam * np.linalg.norm(w[1:, :], 'fro')**2\n",
    "    \n",
    "    return cost/float(np.size(y))\n",
    "\n",
    "weight_his, _ = gradient_descent(multiclass_perceptron, 1000, w)\n",
    "w = weight_his[-1]\n",
    "print(y, np.argmax(model(x, w), axis=0), sep='\\n')\n",
    "print(f\"There are {np.sum(y.squeeze() != np.argmax(model(x, w), axis=0))} mismatches in total\")"
   ]
  },
  {
   "cell_type": "markdown",
   "id": "841eb5c3",
   "metadata": {},
   "source": [
    "# 7.4"
   ]
  },
  {
   "cell_type": "markdown",
   "id": "b6c588e1",
   "metadata": {},
   "source": [
    "\\begin{align}\n",
    "  g(w_0, w_1) &=  \\frac{1}{P}\\sum_{p=1}^{P}\\max(0, \\mathring{\\boldsymbol{x_p}}^T(\\boldsymbol{w}_0-\\boldsymbol{w}_{1}), \\mathring{\\boldsymbol{x_p}}^T(\\boldsymbol{w}_1-\\boldsymbol{w}_{0}))\\\\\n",
    "              &= \\frac{1}{P}\\sum_{p=1}^P (0, \\mathring{\\boldsymbol{x_p}}^T |\\boldsymbol{w_1}-\\boldsymbol{w_0}|)\n",
    "\\end{align}\n",
    "Because in this case, $y_1 = 1, y_0 = 0$, so the model output is either 0 or a positive answer. So if we replace the $|\\boldsymbol{w_1}-\\boldsymbol{w_0}|$ with $-\\boldsymbol{w}$, then it's changed into\n",
    "\n",
    "$$\n",
    "\\frac{1}{P}\\sum_{p=1}^P (0, -y_p\\mathring{\\boldsymbol{x_p}}^Tw)\n",
    "$$\n",
    "where $y_p=0 \\text{ or } 1$"
   ]
  },
  {
   "cell_type": "markdown",
   "id": "ce02e648",
   "metadata": {},
   "source": [
    "# 7.8"
   ]
  },
  {
   "cell_type": "markdown",
   "id": "6ef4477f",
   "metadata": {},
   "source": [
    "because ReLU and Softmax function are convex, as we have proved before. A simple sum up will not change the convexity of the cost function. So they are convex"
   ]
  },
  {
   "cell_type": "markdown",
   "id": "44a06925",
   "metadata": {},
   "source": [
    "# 9.2"
   ]
  },
  {
   "cell_type": "code",
   "execution_count": 5,
   "id": "c5a1a947",
   "metadata": {},
   "outputs": [
    {
     "name": "stderr",
     "output_type": "stream",
     "text": [
      "/Users/junran/.anconda3/anaconda3/envs/machine-learning/lib/python3.11/site-packages/sklearn/datasets/_openml.py:968: FutureWarning: The default value of `parser` will change from `'liac-arff'` to `'auto'` in 1.4. You can set `parser='auto'` to silence this warning. Therefore, an `ImportError` will be raised from 1.4 if the dataset is dense and pandas is not installed. Note that the pandas parser may return different data types. See the Notes Section in fetch_openml's API doc for details.\n",
      "  warn(\n"
     ]
    },
    {
     "name": "stdout",
     "output_type": "stream",
     "text": [
      "(784, 70000)\n",
      "(1, 70000)\n"
     ]
    }
   ],
   "source": [
    "from sklearn.datasets import fetch_openml\n",
    "from skimage.feature import hog\n",
    "from skimage import data, exposure\n",
    "# import MNIST\n",
    "x, y = fetch_openml('mnist_784', version=1, return_X_y=True)\n",
    "\n",
    "# re-shape input/output data\n",
    "x = np.array(x.T)\n",
    "y = np.array([int(v) for v in y])[np.newaxis,:]\n",
    "\n",
    "for i in range(x.shape[1]):\n",
    "    x[:,i] = x[:,i] / np.linalg.norm(x[:,i])\n",
    "\n",
    "print(x.shape)\n",
    "print(y.shape)"
   ]
  },
  {
   "cell_type": "markdown",
   "id": "1a354ca0",
   "metadata": {},
   "source": [
    "prepare for the data:"
   ]
  },
  {
   "cell_type": "code",
   "execution_count": 6,
   "id": "3d927daf",
   "metadata": {},
   "outputs": [],
   "source": [
    "import random\n",
    "\n",
    "def get_train_set(x, y):\n",
    "    return x[:, 0:50000], y[:, 0:50000]\n",
    "\n",
    "def get_test_set(x, y):\n",
    "    return x[:, 50000:], y[:, 50000:]\n"
   ]
  },
  {
   "cell_type": "markdown",
   "id": "0e707556",
   "metadata": {},
   "source": [
    "feature design:"
   ]
  },
  {
   "cell_type": "code",
   "execution_count": 7,
   "id": "bcdf457d",
   "metadata": {},
   "outputs": [
    {
     "name": "stdout",
     "output_type": "stream",
     "text": [
      "(784, 50000) (1, 50000)\n",
      "(648, 50000)\n",
      "(648, 50000) (1, 50000)\n"
     ]
    }
   ],
   "source": [
    "def convert_edges(x):\n",
    "#     x = x.T\n",
    "#     features = []\n",
    "#     for i, image in enumerate(x):\n",
    "#         image = image.reshape((28, 28))\n",
    "#         _, image = hog(\n",
    "#             image,\n",
    "#             orientations=9,\n",
    "#             pixels_per_cell=(3, 3),\n",
    "#             cells_per_block=(1, 1),\n",
    "#             visualize=True,\n",
    "#         )\n",
    "#         image = exposure.rescale_intensity(image, in_range=(0, 10))\n",
    "#         features.append(image)\n",
    "#     features = np.array(features)\n",
    "#     features = features.reshape((features.shape[0], -1))\n",
    "#     return features.T\n",
    "    horz_kernel = np.array([[1, 1, 1], [0, 0, 0], [-1, -1, -1]])\n",
    "    vert_kernel = np.array([[1, 0, -1], [1, 0, -1], [1, 0, -1]])\n",
    "\n",
    "    # histogram bins\n",
    "    bins = np.array([0, 22.5, 45, 67.5, 90, 112.5, 135, 157.5])\n",
    "\n",
    "    # initialize the new training dataset\n",
    "    trainingx_hist = np.zeros([81*len(bins),x.shape[1]])\n",
    "\n",
    "    for pic_id in range(x.shape[1]):\n",
    "\n",
    "        # reshape the data into the shape of the picture\n",
    "        picture = x[0:, pic_id].reshape(28,28)\n",
    "\n",
    "        # feature data for the 81 blocks in a photo\n",
    "        picture_hist = np.zeros([81,len(bins)])\n",
    "\n",
    "        for i in range(9):\n",
    "            # y coords for a block\n",
    "            ys = 3*i\n",
    "            ye = 3*(i+1)\n",
    "            for j in range(9):\n",
    "                # x coords for a block\n",
    "                xs= 3*j\n",
    "                xe= 3*(j+1)     \n",
    "\n",
    "                # extract the block\n",
    "                block = picture[xs:xe, ys:ye]\n",
    "\n",
    "                # Convolve the block\n",
    "                xcomp = np.sum(np.multiply(block, horz_kernel))\n",
    "                ycomp = np.sum(np.multiply(block, vert_kernel))\n",
    "\n",
    "                # clac the block index\n",
    "                block_num = i*9 + j\n",
    "\n",
    "                # skip over all blocks that have no edges or calculate the angle of the vector\n",
    "                if(xcomp == 0 and ycomp == 0):\n",
    "                    pass\n",
    "                else:\n",
    "                    # find the angle of the vector\n",
    "                    ang = np.arctan2(ycomp,xcomp)\n",
    "\n",
    "                    # make all angles positive\n",
    "                    if ang < 0:\n",
    "                        ang += np.pi\n",
    "\n",
    "                    # convert to degrees\n",
    "                    ang = (ang * 360) / (2*np.pi)\n",
    "\n",
    "                    # find the closest angle and get the index of it in the histogram\n",
    "                    picture_hist[block_num, np.argmin(np.abs(bins - ang))] = 1\n",
    "\n",
    "\n",
    "        trainingx_hist[:, pic_id] = np.copy(picture_hist.flatten())\n",
    "    print(trainingx_hist.shape)\n",
    "    return trainingx_hist\n",
    "\n",
    "\n",
    "#print(x.shape)\n",
    "#print(convert_edges(get_features(train_set)).shape)\n",
    "features, targets = get_train_set(x, y)\n",
    "print(features.shape, targets.shape)\n",
    "features = convert_edges(features)\n",
    "print(features.shape, targets.shape)\n",
    "# histogram = x\n",
    "# targets = y"
   ]
  },
  {
   "cell_type": "code",
   "execution_count": 8,
   "id": "db5761ed",
   "metadata": {
    "scrolled": false
   },
   "outputs": [
    {
     "name": "stdout",
     "output_type": "stream",
     "text": [
      "[[5 0 4 ... 8 4 8]]\n",
      "45070 miss\n",
      "running epoch 0\n"
     ]
    },
    {
     "name": "stderr",
     "output_type": "stream",
     "text": [
      "250it [00:00, 552.84it/s]\n"
     ]
    },
    {
     "name": "stdout",
     "output_type": "stream",
     "text": [
      "cost is 0.8861515781298581\n",
      "3583 miss\n",
      "running epoch 1\n"
     ]
    },
    {
     "name": "stderr",
     "output_type": "stream",
     "text": [
      "250it [00:00, 345.55it/s]\n"
     ]
    },
    {
     "name": "stdout",
     "output_type": "stream",
     "text": [
      "cost is 0.8433973792790325\n",
      "3082 miss\n",
      "running epoch 2\n"
     ]
    },
    {
     "name": "stderr",
     "output_type": "stream",
     "text": [
      "250it [00:01, 247.35it/s]\n"
     ]
    },
    {
     "name": "stdout",
     "output_type": "stream",
     "text": [
      "cost is 0.8250145512926464\n",
      "2832 miss\n",
      "running epoch 3\n"
     ]
    },
    {
     "name": "stderr",
     "output_type": "stream",
     "text": [
      "250it [00:00, 280.48it/s]\n"
     ]
    },
    {
     "name": "stdout",
     "output_type": "stream",
     "text": [
      "cost is 0.8142890229678591\n",
      "2688 miss\n",
      "running epoch 4\n"
     ]
    },
    {
     "name": "stderr",
     "output_type": "stream",
     "text": [
      "250it [00:00, 471.56it/s]\n"
     ]
    },
    {
     "name": "stdout",
     "output_type": "stream",
     "text": [
      "cost is 0.8070861149234435\n",
      "2582 miss\n",
      "running epoch 5\n"
     ]
    },
    {
     "name": "stderr",
     "output_type": "stream",
     "text": [
      "250it [00:00, 404.17it/s]\n"
     ]
    },
    {
     "name": "stdout",
     "output_type": "stream",
     "text": [
      "cost is 0.801821814055128\n",
      "2511 miss\n",
      "running epoch 6\n"
     ]
    },
    {
     "name": "stderr",
     "output_type": "stream",
     "text": [
      "250it [00:00, 471.91it/s]\n"
     ]
    },
    {
     "name": "stdout",
     "output_type": "stream",
     "text": [
      "cost is 0.7977472272917271\n",
      "2445 miss\n",
      "running epoch 7\n"
     ]
    },
    {
     "name": "stderr",
     "output_type": "stream",
     "text": [
      "250it [00:00, 355.94it/s]\n"
     ]
    },
    {
     "name": "stdout",
     "output_type": "stream",
     "text": [
      "cost is 0.7944604277550897\n",
      "2394 miss\n",
      "running epoch 8\n"
     ]
    },
    {
     "name": "stderr",
     "output_type": "stream",
     "text": [
      "250it [00:01, 245.77it/s]\n"
     ]
    },
    {
     "name": "stdout",
     "output_type": "stream",
     "text": [
      "cost is 0.7917260625932104\n",
      "2343 miss\n",
      "running epoch 9\n"
     ]
    },
    {
     "name": "stderr",
     "output_type": "stream",
     "text": [
      "250it [00:00, 343.89it/s]\n"
     ]
    },
    {
     "name": "stdout",
     "output_type": "stream",
     "text": [
      "cost is 0.7893970017063668\n",
      "2301 miss\n",
      "running epoch 10\n"
     ]
    },
    {
     "name": "stderr",
     "output_type": "stream",
     "text": [
      "250it [00:00, 422.70it/s]\n"
     ]
    },
    {
     "name": "stdout",
     "output_type": "stream",
     "text": [
      "cost is 0.7873763489407745\n",
      "2255 miss\n",
      "running epoch 11\n"
     ]
    },
    {
     "name": "stderr",
     "output_type": "stream",
     "text": [
      "250it [00:00, 444.41it/s]\n"
     ]
    },
    {
     "name": "stdout",
     "output_type": "stream",
     "text": [
      "cost is 0.7855974826672576\n",
      "2235 miss\n",
      "running epoch 12\n"
     ]
    },
    {
     "name": "stderr",
     "output_type": "stream",
     "text": [
      "250it [00:00, 290.36it/s]\n"
     ]
    },
    {
     "name": "stdout",
     "output_type": "stream",
     "text": [
      "cost is 0.7840128977991496\n",
      "2222 miss\n",
      "running epoch 13\n"
     ]
    },
    {
     "name": "stderr",
     "output_type": "stream",
     "text": [
      "250it [00:00, 316.42it/s]\n"
     ]
    },
    {
     "name": "stdout",
     "output_type": "stream",
     "text": [
      "cost is 0.7825876471707247\n",
      "2199 miss\n",
      "running epoch 14\n"
     ]
    },
    {
     "name": "stderr",
     "output_type": "stream",
     "text": [
      "250it [00:00, 337.21it/s]\n"
     ]
    },
    {
     "name": "stdout",
     "output_type": "stream",
     "text": [
      "cost is 0.7812953208963828\n",
      "2169 miss\n",
      "running epoch 15\n"
     ]
    },
    {
     "name": "stderr",
     "output_type": "stream",
     "text": [
      "250it [00:00, 304.01it/s]\n"
     ]
    },
    {
     "name": "stdout",
     "output_type": "stream",
     "text": [
      "cost is 0.7801154908042759\n",
      "2149 miss\n",
      "running epoch 16\n"
     ]
    },
    {
     "name": "stderr",
     "output_type": "stream",
     "text": [
      "250it [00:00, 281.55it/s]\n"
     ]
    },
    {
     "name": "stdout",
     "output_type": "stream",
     "text": [
      "cost is 0.7790320336682144\n",
      "2141 miss\n",
      "running epoch 17\n"
     ]
    },
    {
     "name": "stderr",
     "output_type": "stream",
     "text": [
      "250it [00:01, 235.61it/s]\n"
     ]
    },
    {
     "name": "stdout",
     "output_type": "stream",
     "text": [
      "cost is 0.7780319994301549\n",
      "2118 miss\n",
      "running epoch 18\n"
     ]
    },
    {
     "name": "stderr",
     "output_type": "stream",
     "text": [
      "250it [00:00, 359.54it/s]\n"
     ]
    },
    {
     "name": "stdout",
     "output_type": "stream",
     "text": [
      "cost is 0.7771048274985641\n",
      "2101 miss\n",
      "running epoch 19\n"
     ]
    },
    {
     "name": "stderr",
     "output_type": "stream",
     "text": [
      "250it [00:01, 208.51it/s]"
     ]
    },
    {
     "name": "stdout",
     "output_type": "stream",
     "text": [
      "cost is 0.7762417913038456\n",
      "2091 miss\n"
     ]
    },
    {
     "name": "stderr",
     "output_type": "stream",
     "text": [
      "\n"
     ]
    }
   ],
   "source": [
    "w = 0.1*np.random.rand(649, 10)\n",
    "print(targets)\n",
    "print(f\"{np.sum(targets.squeeze() != np.argmax(model(features, w), axis=0))} miss\")\n",
    "\n",
    "def train_with_feature():\n",
    "    batch_size = 200\n",
    "    epoch = 20\n",
    "    def train_mini_batch(batch_size, epoch, w):\n",
    "        weight = []\n",
    "        cost = []\n",
    "        from tqdm import tqdm\n",
    "        for i in range(epoch):\n",
    "            assert(targets.shape[1] == features.shape[1])\n",
    "            print(f\"running epoch {i}\")\n",
    "            feature_list = np.split(features, features.shape[1]/batch_size, axis=1)\n",
    "            target_list = np.split(targets, targets.shape[1]/batch_size, axis=1)\n",
    "            for x, y in tqdm(zip(feature_list, target_list)):\n",
    "                def multiclass_softmax(w):  \n",
    "                    all_evals = model(x, w)\n",
    "                    #print(x.shape, y.shape, w.shape)\n",
    "                    b = all_evals[y.astype(int).flatten(), np.arange(np.size(y))]  \n",
    "                    a = (all_evals - b)\n",
    "                    a = np.exp(a)   \n",
    "                    cost = a.sum(axis=0)\n",
    "                    cost = np.log(1 + cost)\n",
    "                    return np.sum(cost) / float(np.size(y))\n",
    "                weight_his, cost_his = gradient_descent(multiclass_softmax, 1, w)\n",
    "                w = weight_his[-1]\n",
    "            weight.append(w)\n",
    "            cost.append(cost_his[-1])\n",
    "            print(f\"cost is {cost[-1]}\")\n",
    "            print(f\"{np.sum(targets.squeeze() != np.argmax(model(features, w), axis=0))} miss\")\n",
    "        return weight, cost\n",
    "    return train_mini_batch(batch_size, epoch, w)\n",
    "\n",
    "weight, cost = train_with_feature()"
   ]
  },
  {
   "cell_type": "code",
   "execution_count": 9,
   "id": "ceaa9732",
   "metadata": {},
   "outputs": [
    {
     "name": "stdout",
     "output_type": "stream",
     "text": [
      "(648, 20000)\n"
     ]
    }
   ],
   "source": [
    "#print(weight)\n",
    "features, targets = get_test_set(x, y)\n",
    "features = convert_edges(features)\n",
    "def test_with_feature(w):\n",
    "#     print(f\"There are {np.sum(y.squeeze() != np.argmax(model(x, weight[-1]), axis=0))} mismatch in total\")\n",
    "    return np.sum(targets.squeeze() != np.argmax(model(features, w), axis=0))\n",
    "#print(weight[-1].shape)\n",
    "mismatches = []\n",
    "for w in weight:\n",
    "    mismatch = test_with_feature(w)\n",
    "    mismatches.append(mismatch)"
   ]
  },
  {
   "cell_type": "markdown",
   "id": "5cab7179",
   "metadata": {},
   "source": [
    "plot the cost and mismatch"
   ]
  },
  {
   "cell_type": "code",
   "execution_count": 10,
   "id": "d7600087",
   "metadata": {},
   "outputs": [
    {
     "name": "stdout",
     "output_type": "stream",
     "text": [
      "936\n"
     ]
    }
   ],
   "source": [
    "print(test_with_feature(w))"
   ]
  },
  {
   "cell_type": "code",
   "execution_count": 11,
   "id": "88424c26",
   "metadata": {},
   "outputs": [
    {
     "data": {
      "text/plain": [
       "[<matplotlib.lines.Line2D at 0x30475d950>]"
      ]
     },
     "execution_count": 11,
     "metadata": {},
     "output_type": "execute_result"
    },
    {
     "data": {
      "image/png": "[encoded data removed]",
      "text/plain": [
       "<Figure size 640x480 with 2 Axes>"
      ]
     },
     "metadata": {},
     "output_type": "display_data"
    }
   ],
   "source": [
    "plt.subplot(211)\n",
    "plt.plot(cost)\n",
    "plt.subplot(212)\n",
    "plt.plot(mismatches)"
   ]
  },
  {
   "cell_type": "code",
   "execution_count": 12,
   "id": "f2735750",
   "metadata": {
    "scrolled": false
   },
   "outputs": [
    {
     "name": "stdout",
     "output_type": "stream",
     "text": [
      "running epoch 0\n"
     ]
    },
    {
     "name": "stderr",
     "output_type": "stream",
     "text": [
      "250it [00:01, 248.70it/s]\n"
     ]
    },
    {
     "name": "stdout",
     "output_type": "stream",
     "text": [
      "cost is 1.457438180170643\n",
      "8619 miss\n",
      "running epoch 1\n"
     ]
    },
    {
     "name": "stderr",
     "output_type": "stream",
     "text": [
      "250it [00:00, 283.74it/s]\n"
     ]
    },
    {
     "name": "stdout",
     "output_type": "stream",
     "text": [
      "cost is 1.2758051013420062\n",
      "7589 miss\n",
      "running epoch 2\n"
     ]
    },
    {
     "name": "stderr",
     "output_type": "stream",
     "text": [
      "250it [00:00, 282.71it/s]\n"
     ]
    },
    {
     "name": "stdout",
     "output_type": "stream",
     "text": [
      "cost is 1.199745793573011\n",
      "7029 miss\n",
      "running epoch 3\n"
     ]
    },
    {
     "name": "stderr",
     "output_type": "stream",
     "text": [
      "250it [00:01, 231.92it/s]\n"
     ]
    },
    {
     "name": "stdout",
     "output_type": "stream",
     "text": [
      "cost is 1.1573440804223711\n",
      "6653 miss\n",
      "running epoch 4\n"
     ]
    },
    {
     "name": "stderr",
     "output_type": "stream",
     "text": [
      "250it [00:01, 248.05it/s]\n"
     ]
    },
    {
     "name": "stdout",
     "output_type": "stream",
     "text": [
      "cost is 1.129980383405246\n",
      "6398 miss\n",
      "running epoch 5\n"
     ]
    },
    {
     "name": "stderr",
     "output_type": "stream",
     "text": [
      "250it [00:01, 222.84it/s]\n"
     ]
    },
    {
     "name": "stdout",
     "output_type": "stream",
     "text": [
      "cost is 1.1106313281729254\n",
      "6187 miss\n",
      "running epoch 6\n"
     ]
    },
    {
     "name": "stderr",
     "output_type": "stream",
     "text": [
      "250it [00:00, 296.21it/s]\n"
     ]
    },
    {
     "name": "stdout",
     "output_type": "stream",
     "text": [
      "cost is 1.0960531832934397\n",
      "6054 miss\n",
      "running epoch 7\n"
     ]
    },
    {
     "name": "stderr",
     "output_type": "stream",
     "text": [
      "250it [00:00, 322.19it/s]\n"
     ]
    },
    {
     "name": "stdout",
     "output_type": "stream",
     "text": [
      "cost is 1.0845445029186878\n",
      "5938 miss\n",
      "running epoch 8\n"
     ]
    },
    {
     "name": "stderr",
     "output_type": "stream",
     "text": [
      "250it [00:01, 229.14it/s]\n"
     ]
    },
    {
     "name": "stdout",
     "output_type": "stream",
     "text": [
      "cost is 1.0751299276110504\n",
      "5828 miss\n",
      "running epoch 9\n"
     ]
    },
    {
     "name": "stderr",
     "output_type": "stream",
     "text": [
      "250it [00:00, 330.33it/s]\n"
     ]
    },
    {
     "name": "stdout",
     "output_type": "stream",
     "text": [
      "cost is 1.0672118729039746\n",
      "5704 miss\n",
      "running epoch 10\n"
     ]
    },
    {
     "name": "stderr",
     "output_type": "stream",
     "text": [
      "250it [00:00, 523.89it/s]\n"
     ]
    },
    {
     "name": "stdout",
     "output_type": "stream",
     "text": [
      "cost is 1.0604045460342524\n",
      "5604 miss\n",
      "running epoch 11\n"
     ]
    },
    {
     "name": "stderr",
     "output_type": "stream",
     "text": [
      "250it [00:00, 505.10it/s]\n"
     ]
    },
    {
     "name": "stdout",
     "output_type": "stream",
     "text": [
      "cost is 1.054448040199317\n",
      "5527 miss\n",
      "running epoch 12\n"
     ]
    },
    {
     "name": "stderr",
     "output_type": "stream",
     "text": [
      "250it [00:00, 324.17it/s]\n"
     ]
    },
    {
     "name": "stdout",
     "output_type": "stream",
     "text": [
      "cost is 1.049160904773955\n",
      "5478 miss\n",
      "running epoch 13\n"
     ]
    },
    {
     "name": "stderr",
     "output_type": "stream",
     "text": [
      "250it [00:00, 397.13it/s]\n"
     ]
    },
    {
     "name": "stdout",
     "output_type": "stream",
     "text": [
      "cost is 1.0444125521282475\n",
      "5420 miss\n",
      "running epoch 14\n"
     ]
    },
    {
     "name": "stderr",
     "output_type": "stream",
     "text": [
      "250it [00:00, 374.86it/s]\n"
     ]
    },
    {
     "name": "stdout",
     "output_type": "stream",
     "text": [
      "cost is 1.0401064920039083\n",
      "5373 miss\n",
      "running epoch 15\n"
     ]
    },
    {
     "name": "stderr",
     "output_type": "stream",
     "text": [
      "250it [00:00, 393.03it/s]\n"
     ]
    },
    {
     "name": "stdout",
     "output_type": "stream",
     "text": [
      "cost is 1.0361697628267956\n",
      "5318 miss\n",
      "running epoch 16\n"
     ]
    },
    {
     "name": "stderr",
     "output_type": "stream",
     "text": [
      "250it [00:00, 470.67it/s]\n"
     ]
    },
    {
     "name": "stdout",
     "output_type": "stream",
     "text": [
      "cost is 1.0325460549600738\n",
      "5282 miss\n",
      "running epoch 17\n"
     ]
    },
    {
     "name": "stderr",
     "output_type": "stream",
     "text": [
      "250it [00:00, 501.39it/s]\n"
     ]
    },
    {
     "name": "stdout",
     "output_type": "stream",
     "text": [
      "cost is 1.0291911107753924\n",
      "5233 miss\n",
      "running epoch 18\n"
     ]
    },
    {
     "name": "stderr",
     "output_type": "stream",
     "text": [
      "250it [00:01, 236.67it/s]\n"
     ]
    },
    {
     "name": "stdout",
     "output_type": "stream",
     "text": [
      "cost is 1.0260695717321269\n",
      "5182 miss\n",
      "running epoch 19\n"
     ]
    },
    {
     "name": "stderr",
     "output_type": "stream",
     "text": [
      "250it [00:00, 314.09it/s]\n"
     ]
    },
    {
     "name": "stdout",
     "output_type": "stream",
     "text": [
      "cost is 1.0231527697959617\n",
      "5143 miss\n"
     ]
    }
   ],
   "source": [
    "features, targets = get_train_set(x, y)\n",
    "w = 0.1*np.random.rand(785, 10)\n",
    "\n",
    "def train_without_feature():\n",
    "    batch_size = 200\n",
    "    epoch = 20\n",
    "    \n",
    "    def train_mini_batch(batch_size, epoch, w):\n",
    "        weight = []\n",
    "        cost = []\n",
    "        from tqdm import tqdm\n",
    "        for i in range(epoch):\n",
    "            assert(targets.shape[1] == features.shape[1])\n",
    "            print(f\"running epoch {i}\")\n",
    "            feature_list = np.split(features, features.shape[1]/batch_size, axis=1)\n",
    "            target_list = np.split(targets, targets.shape[1]/batch_size, axis=1)\n",
    "            for x, y in tqdm(zip(feature_list, target_list)):\n",
    "                def multiclass_softmax(w):  \n",
    "                    all_evals = model(x, w)\n",
    "                    #print(x.shape, y.shape, w.shape)\n",
    "                    b = all_evals[y.astype(int).flatten(), np.arange(np.size(y))]  \n",
    "                    a = (all_evals - b)\n",
    "                    a = np.exp(a)   \n",
    "                    cost = a.sum(axis=0)\n",
    "                    cost = np.log(1 + cost)\n",
    "                    return np.sum(cost) / float(np.size(y))\n",
    "                weight_his, cost_his = gradient_descent(multiclass_softmax, 1, w)\n",
    "                w = weight_his[-1]\n",
    "            weight.append(w)\n",
    "            cost.append(cost_his[-1])\n",
    "            print(f\"cost is {cost[-1]}\")\n",
    "            print(f\"{np.sum(targets.squeeze() != np.argmax(model(features, w), axis=0))} miss\")\n",
    "        return weight, cost\n",
    "    return train_mini_batch(batch_size, epoch, w)\n",
    "\n",
    "weight_, cost_ = train_without_feature()"
   ]
  },
  {
   "cell_type": "code",
   "execution_count": 13,
   "id": "3d3e90ea",
   "metadata": {},
   "outputs": [
    {
     "data": {
      "text/plain": [
       "[<matplotlib.lines.Line2D at 0x16a893a50>]"
      ]
     },
     "execution_count": 13,
     "metadata": {},
     "output_type": "execute_result"
    },
    {
     "data": {
      "image/png": "[encoded data removed]",
      "text/plain": [
       "<Figure size 640x480 with 2 Axes>"
      ]
     },
     "metadata": {},
     "output_type": "display_data"
    }
   ],
   "source": [
    "w = 0.1*np.random.rand(785, 10)\n",
    "features, targets = get_test_set(x, y)\n",
    "def test_without_feature(w):\n",
    "    #print(f\"There are {np.sum(y.squeeze() != np.argmax(model(x, w), axis=0))} mismatch in total\")\n",
    "    return np.sum(targets.squeeze() != np.argmax(model(features, w), axis=0))\n",
    "#print(weight[-1].shape)\n",
    "mismatches = []\n",
    "for w in weight_:\n",
    "    mismatch = test_without_feature(w)\n",
    "    mismatches.append(mismatch)\n",
    "plt.subplot(211)\n",
    "plt.plot(cost_)\n",
    "plt.subplot(212)\n",
    "plt.plot(mismatches)"
   ]
  }
 ],
 "metadata": {
  "kernelspec": {
   "display_name": "Python 3 (ipykernel)",
   "language": "python",
   "name": "python3"
  },
  "language_info": {
   "codemirror_mode": {
    "name": "ipython",
    "version": 3
   },
   "file_extension": ".py",
   "mimetype": "text/x-python",
   "name": "python",
   "nbconvert_exporter": "python",
   "pygments_lexer": "ipython3",
   "version": "3.11.5"
  }
 },
 "nbformat": 4,
 "nbformat_minor": 5
}
